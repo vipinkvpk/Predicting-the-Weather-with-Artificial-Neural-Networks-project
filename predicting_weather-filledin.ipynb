{
 "cells": [
  {
   "cell_type": "markdown",
   "metadata": {},
   "source": [
    "Predicting the Weather with Neural Networks\n",
    "===========================================\n"
   ]
  },
  {
   "cell_type": "markdown",
   "metadata": {},
   "source": [
    "Example neural network"
   ]
  },
  {
   "cell_type": "markdown",
   "metadata": {},
   "source": [
    "![title](img/ANN_with_numbers.png)"
   ]
  },
  {
   "cell_type": "markdown",
   "metadata": {},
   "source": [
    "Import libraries"
   ]
  },
  {
   "cell_type": "code",
   "execution_count": 3,
   "metadata": {},
   "outputs": [],
   "source": [
    "import numpy as np\n",
    "import pandas as pd\n",
    "import matplotlib.pyplot as plt\n",
    "from sklearn.model_selection import train_test_split\n",
    "from sklearn.metrics import accuracy_score, classification_report, confusion_matrix\n",
    "from sklearn.preprocessing import StandardScaler\n",
    "from sklearn.neural_network import MLPClassifier\n",
    "from sklearn.model_selection import GridSearchCV"
   ]
  },
  {
   "cell_type": "markdown",
   "metadata": {},
   "source": [
    "Read a CSV data file."
   ]
  },
  {
   "cell_type": "code",
   "execution_count": 4,
   "metadata": {},
   "outputs": [
    {
     "data": {
      "text/html": [
       "<div>\n",
       "<style scoped>\n",
       "    .dataframe tbody tr th:only-of-type {\n",
       "        vertical-align: middle;\n",
       "    }\n",
       "\n",
       "    .dataframe tbody tr th {\n",
       "        vertical-align: top;\n",
       "    }\n",
       "\n",
       "    .dataframe thead th {\n",
       "        text-align: right;\n",
       "    }\n",
       "</style>\n",
       "<table border=\"1\" class=\"dataframe\">\n",
       "  <thead>\n",
       "    <tr style=\"text-align: right;\">\n",
       "      <th></th>\n",
       "      <th>Date</th>\n",
       "      <th>Location</th>\n",
       "      <th>MinTemp</th>\n",
       "      <th>MaxTemp</th>\n",
       "      <th>Rainfall</th>\n",
       "      <th>Evaporation</th>\n",
       "      <th>Sunshine</th>\n",
       "      <th>WindGustDir</th>\n",
       "      <th>WindGustSpeed</th>\n",
       "      <th>WindDir9am</th>\n",
       "      <th>...</th>\n",
       "      <th>Humidity3pm</th>\n",
       "      <th>Pressure9am</th>\n",
       "      <th>Pressure3pm</th>\n",
       "      <th>Cloud9am</th>\n",
       "      <th>Cloud3pm</th>\n",
       "      <th>Temp9am</th>\n",
       "      <th>Temp3pm</th>\n",
       "      <th>RainToday</th>\n",
       "      <th>RISK_MM</th>\n",
       "      <th>RainTomorrow</th>\n",
       "    </tr>\n",
       "  </thead>\n",
       "  <tbody>\n",
       "    <tr>\n",
       "      <th>0</th>\n",
       "      <td>2008-07-01</td>\n",
       "      <td>Perth</td>\n",
       "      <td>2.7</td>\n",
       "      <td>18.8</td>\n",
       "      <td>0.0</td>\n",
       "      <td>0.8</td>\n",
       "      <td>9.1</td>\n",
       "      <td>ENE</td>\n",
       "      <td>20.0</td>\n",
       "      <td>NaN</td>\n",
       "      <td>...</td>\n",
       "      <td>53.0</td>\n",
       "      <td>1027.6</td>\n",
       "      <td>1024.5</td>\n",
       "      <td>2.0</td>\n",
       "      <td>3.0</td>\n",
       "      <td>8.5</td>\n",
       "      <td>18.1</td>\n",
       "      <td>No</td>\n",
       "      <td>0.0</td>\n",
       "      <td>No</td>\n",
       "    </tr>\n",
       "    <tr>\n",
       "      <th>1</th>\n",
       "      <td>2008-07-02</td>\n",
       "      <td>Perth</td>\n",
       "      <td>6.4</td>\n",
       "      <td>20.7</td>\n",
       "      <td>0.0</td>\n",
       "      <td>1.8</td>\n",
       "      <td>7.0</td>\n",
       "      <td>NE</td>\n",
       "      <td>22.0</td>\n",
       "      <td>ESE</td>\n",
       "      <td>...</td>\n",
       "      <td>39.0</td>\n",
       "      <td>1024.1</td>\n",
       "      <td>1019.0</td>\n",
       "      <td>0.0</td>\n",
       "      <td>6.0</td>\n",
       "      <td>11.1</td>\n",
       "      <td>19.7</td>\n",
       "      <td>No</td>\n",
       "      <td>0.4</td>\n",
       "      <td>No</td>\n",
       "    </tr>\n",
       "    <tr>\n",
       "      <th>2</th>\n",
       "      <td>2008-07-03</td>\n",
       "      <td>Perth</td>\n",
       "      <td>6.5</td>\n",
       "      <td>19.9</td>\n",
       "      <td>0.4</td>\n",
       "      <td>2.2</td>\n",
       "      <td>7.3</td>\n",
       "      <td>NE</td>\n",
       "      <td>31.0</td>\n",
       "      <td>NaN</td>\n",
       "      <td>...</td>\n",
       "      <td>71.0</td>\n",
       "      <td>1016.8</td>\n",
       "      <td>1015.6</td>\n",
       "      <td>1.0</td>\n",
       "      <td>3.0</td>\n",
       "      <td>12.1</td>\n",
       "      <td>17.7</td>\n",
       "      <td>No</td>\n",
       "      <td>1.8</td>\n",
       "      <td>Yes</td>\n",
       "    </tr>\n",
       "    <tr>\n",
       "      <th>3</th>\n",
       "      <td>2008-07-04</td>\n",
       "      <td>Perth</td>\n",
       "      <td>9.5</td>\n",
       "      <td>19.2</td>\n",
       "      <td>1.8</td>\n",
       "      <td>1.2</td>\n",
       "      <td>4.7</td>\n",
       "      <td>W</td>\n",
       "      <td>26.0</td>\n",
       "      <td>NNE</td>\n",
       "      <td>...</td>\n",
       "      <td>73.0</td>\n",
       "      <td>1019.3</td>\n",
       "      <td>1018.4</td>\n",
       "      <td>6.0</td>\n",
       "      <td>6.0</td>\n",
       "      <td>13.2</td>\n",
       "      <td>17.7</td>\n",
       "      <td>Yes</td>\n",
       "      <td>1.8</td>\n",
       "      <td>Yes</td>\n",
       "    </tr>\n",
       "    <tr>\n",
       "      <th>4</th>\n",
       "      <td>2008-07-05</td>\n",
       "      <td>Perth</td>\n",
       "      <td>9.5</td>\n",
       "      <td>16.4</td>\n",
       "      <td>1.8</td>\n",
       "      <td>1.4</td>\n",
       "      <td>4.9</td>\n",
       "      <td>WSW</td>\n",
       "      <td>44.0</td>\n",
       "      <td>W</td>\n",
       "      <td>...</td>\n",
       "      <td>57.0</td>\n",
       "      <td>1020.4</td>\n",
       "      <td>1022.1</td>\n",
       "      <td>7.0</td>\n",
       "      <td>5.0</td>\n",
       "      <td>15.9</td>\n",
       "      <td>16.0</td>\n",
       "      <td>Yes</td>\n",
       "      <td>6.8</td>\n",
       "      <td>Yes</td>\n",
       "    </tr>\n",
       "  </tbody>\n",
       "</table>\n",
       "<p>5 rows × 24 columns</p>\n",
       "</div>"
      ],
      "text/plain": [
       "         Date Location  MinTemp  MaxTemp  Rainfall  Evaporation  Sunshine  \\\n",
       "0  2008-07-01    Perth      2.7     18.8       0.0          0.8       9.1   \n",
       "1  2008-07-02    Perth      6.4     20.7       0.0          1.8       7.0   \n",
       "2  2008-07-03    Perth      6.5     19.9       0.4          2.2       7.3   \n",
       "3  2008-07-04    Perth      9.5     19.2       1.8          1.2       4.7   \n",
       "4  2008-07-05    Perth      9.5     16.4       1.8          1.4       4.9   \n",
       "\n",
       "  WindGustDir  WindGustSpeed WindDir9am  ... Humidity3pm  Pressure9am  \\\n",
       "0         ENE           20.0        NaN  ...        53.0       1027.6   \n",
       "1          NE           22.0        ESE  ...        39.0       1024.1   \n",
       "2          NE           31.0        NaN  ...        71.0       1016.8   \n",
       "3           W           26.0        NNE  ...        73.0       1019.3   \n",
       "4         WSW           44.0          W  ...        57.0       1020.4   \n",
       "\n",
       "   Pressure3pm  Cloud9am  Cloud3pm  Temp9am  Temp3pm  RainToday  RISK_MM  \\\n",
       "0       1024.5       2.0       3.0      8.5     18.1         No      0.0   \n",
       "1       1019.0       0.0       6.0     11.1     19.7         No      0.4   \n",
       "2       1015.6       1.0       3.0     12.1     17.7         No      1.8   \n",
       "3       1018.4       6.0       6.0     13.2     17.7        Yes      1.8   \n",
       "4       1022.1       7.0       5.0     15.9     16.0        Yes      6.8   \n",
       "\n",
       "   RainTomorrow  \n",
       "0            No  \n",
       "1            No  \n",
       "2           Yes  \n",
       "3           Yes  \n",
       "4           Yes  \n",
       "\n",
       "[5 rows x 24 columns]"
      ]
     },
     "execution_count": 4,
     "metadata": {},
     "output_type": "execute_result"
    }
   ],
   "source": [
    "df = pd.read_csv(\"weatherPerth.csv\")\n",
    "df.head()"
   ]
  },
  {
   "cell_type": "markdown",
   "metadata": {},
   "source": [
    "Pre-process the data.  First, remove unwanted variables."
   ]
  },
  {
   "cell_type": "code",
   "execution_count": 5,
   "metadata": {},
   "outputs": [],
   "source": [
    "exclude = ['Date', 'RISK_MM', 'Location']\n",
    "for var in exclude:\n",
    "    del df[var]"
   ]
  },
  {
   "cell_type": "markdown",
   "metadata": {},
   "source": [
    "Dealing with missing values."
   ]
  },
  {
   "cell_type": "code",
   "execution_count": 6,
   "metadata": {},
   "outputs": [],
   "source": [
    "df = df.dropna()"
   ]
  },
  {
   "cell_type": "markdown",
   "metadata": {},
   "source": [
    "Boolean variables to 0s and 1s."
   ]
  },
  {
   "cell_type": "code",
   "execution_count": 7,
   "metadata": {},
   "outputs": [
    {
     "data": {
      "text/html": [
       "<div>\n",
       "<style scoped>\n",
       "    .dataframe tbody tr th:only-of-type {\n",
       "        vertical-align: middle;\n",
       "    }\n",
       "\n",
       "    .dataframe tbody tr th {\n",
       "        vertical-align: top;\n",
       "    }\n",
       "\n",
       "    .dataframe thead th {\n",
       "        text-align: right;\n",
       "    }\n",
       "</style>\n",
       "<table border=\"1\" class=\"dataframe\">\n",
       "  <thead>\n",
       "    <tr style=\"text-align: right;\">\n",
       "      <th></th>\n",
       "      <th>MinTemp</th>\n",
       "      <th>MaxTemp</th>\n",
       "      <th>Rainfall</th>\n",
       "      <th>Evaporation</th>\n",
       "      <th>Sunshine</th>\n",
       "      <th>WindGustDir</th>\n",
       "      <th>WindGustSpeed</th>\n",
       "      <th>WindDir9am</th>\n",
       "      <th>WindDir3pm</th>\n",
       "      <th>WindSpeed9am</th>\n",
       "      <th>...</th>\n",
       "      <th>Humidity9am</th>\n",
       "      <th>Humidity3pm</th>\n",
       "      <th>Pressure9am</th>\n",
       "      <th>Pressure3pm</th>\n",
       "      <th>Cloud9am</th>\n",
       "      <th>Cloud3pm</th>\n",
       "      <th>Temp9am</th>\n",
       "      <th>Temp3pm</th>\n",
       "      <th>RainToday</th>\n",
       "      <th>RainTomorrow</th>\n",
       "    </tr>\n",
       "  </thead>\n",
       "  <tbody>\n",
       "    <tr>\n",
       "      <th>1</th>\n",
       "      <td>6.4</td>\n",
       "      <td>20.7</td>\n",
       "      <td>0.0</td>\n",
       "      <td>1.8</td>\n",
       "      <td>7.0</td>\n",
       "      <td>NE</td>\n",
       "      <td>22.0</td>\n",
       "      <td>ESE</td>\n",
       "      <td>ENE</td>\n",
       "      <td>6</td>\n",
       "      <td>...</td>\n",
       "      <td>80.0</td>\n",
       "      <td>39.0</td>\n",
       "      <td>1024.1</td>\n",
       "      <td>1019.0</td>\n",
       "      <td>0.0</td>\n",
       "      <td>6.0</td>\n",
       "      <td>11.1</td>\n",
       "      <td>19.7</td>\n",
       "      <td>0</td>\n",
       "      <td>0</td>\n",
       "    </tr>\n",
       "    <tr>\n",
       "      <th>3</th>\n",
       "      <td>9.5</td>\n",
       "      <td>19.2</td>\n",
       "      <td>1.8</td>\n",
       "      <td>1.2</td>\n",
       "      <td>4.7</td>\n",
       "      <td>W</td>\n",
       "      <td>26.0</td>\n",
       "      <td>NNE</td>\n",
       "      <td>NNW</td>\n",
       "      <td>11</td>\n",
       "      <td>...</td>\n",
       "      <td>93.0</td>\n",
       "      <td>73.0</td>\n",
       "      <td>1019.3</td>\n",
       "      <td>1018.4</td>\n",
       "      <td>6.0</td>\n",
       "      <td>6.0</td>\n",
       "      <td>13.2</td>\n",
       "      <td>17.7</td>\n",
       "      <td>1</td>\n",
       "      <td>1</td>\n",
       "    </tr>\n",
       "    <tr>\n",
       "      <th>4</th>\n",
       "      <td>9.5</td>\n",
       "      <td>16.4</td>\n",
       "      <td>1.8</td>\n",
       "      <td>1.4</td>\n",
       "      <td>4.9</td>\n",
       "      <td>WSW</td>\n",
       "      <td>44.0</td>\n",
       "      <td>W</td>\n",
       "      <td>SW</td>\n",
       "      <td>13</td>\n",
       "      <td>...</td>\n",
       "      <td>69.0</td>\n",
       "      <td>57.0</td>\n",
       "      <td>1020.4</td>\n",
       "      <td>1022.1</td>\n",
       "      <td>7.0</td>\n",
       "      <td>5.0</td>\n",
       "      <td>15.9</td>\n",
       "      <td>16.0</td>\n",
       "      <td>1</td>\n",
       "      <td>1</td>\n",
       "    </tr>\n",
       "    <tr>\n",
       "      <th>5</th>\n",
       "      <td>0.7</td>\n",
       "      <td>15.9</td>\n",
       "      <td>6.8</td>\n",
       "      <td>2.4</td>\n",
       "      <td>9.3</td>\n",
       "      <td>NNE</td>\n",
       "      <td>24.0</td>\n",
       "      <td>ENE</td>\n",
       "      <td>NE</td>\n",
       "      <td>4</td>\n",
       "      <td>...</td>\n",
       "      <td>86.0</td>\n",
       "      <td>41.0</td>\n",
       "      <td>1032.0</td>\n",
       "      <td>1029.6</td>\n",
       "      <td>0.0</td>\n",
       "      <td>1.0</td>\n",
       "      <td>6.9</td>\n",
       "      <td>15.5</td>\n",
       "      <td>1</td>\n",
       "      <td>0</td>\n",
       "    </tr>\n",
       "    <tr>\n",
       "      <th>6</th>\n",
       "      <td>0.7</td>\n",
       "      <td>18.3</td>\n",
       "      <td>0.0</td>\n",
       "      <td>0.8</td>\n",
       "      <td>9.3</td>\n",
       "      <td>N</td>\n",
       "      <td>37.0</td>\n",
       "      <td>NE</td>\n",
       "      <td>NNE</td>\n",
       "      <td>15</td>\n",
       "      <td>...</td>\n",
       "      <td>72.0</td>\n",
       "      <td>36.0</td>\n",
       "      <td>1028.9</td>\n",
       "      <td>1024.2</td>\n",
       "      <td>1.0</td>\n",
       "      <td>5.0</td>\n",
       "      <td>8.7</td>\n",
       "      <td>17.9</td>\n",
       "      <td>0</td>\n",
       "      <td>0</td>\n",
       "    </tr>\n",
       "  </tbody>\n",
       "</table>\n",
       "<p>5 rows × 21 columns</p>\n",
       "</div>"
      ],
      "text/plain": [
       "   MinTemp  MaxTemp  Rainfall  Evaporation  Sunshine WindGustDir  \\\n",
       "1      6.4     20.7       0.0          1.8       7.0          NE   \n",
       "3      9.5     19.2       1.8          1.2       4.7           W   \n",
       "4      9.5     16.4       1.8          1.4       4.9         WSW   \n",
       "5      0.7     15.9       6.8          2.4       9.3         NNE   \n",
       "6      0.7     18.3       0.0          0.8       9.3           N   \n",
       "\n",
       "   WindGustSpeed WindDir9am WindDir3pm  WindSpeed9am  ...  Humidity9am  \\\n",
       "1           22.0        ESE        ENE             6  ...         80.0   \n",
       "3           26.0        NNE        NNW            11  ...         93.0   \n",
       "4           44.0          W         SW            13  ...         69.0   \n",
       "5           24.0        ENE         NE             4  ...         86.0   \n",
       "6           37.0         NE        NNE            15  ...         72.0   \n",
       "\n",
       "   Humidity3pm  Pressure9am  Pressure3pm  Cloud9am  Cloud3pm  Temp9am  \\\n",
       "1         39.0       1024.1       1019.0       0.0       6.0     11.1   \n",
       "3         73.0       1019.3       1018.4       6.0       6.0     13.2   \n",
       "4         57.0       1020.4       1022.1       7.0       5.0     15.9   \n",
       "5         41.0       1032.0       1029.6       0.0       1.0      6.9   \n",
       "6         36.0       1028.9       1024.2       1.0       5.0      8.7   \n",
       "\n",
       "   Temp3pm  RainToday  RainTomorrow  \n",
       "1     19.7          0             0  \n",
       "3     17.7          1             1  \n",
       "4     16.0          1             1  \n",
       "5     15.5          1             0  \n",
       "6     17.9          0             0  \n",
       "\n",
       "[5 rows x 21 columns]"
      ]
     },
     "execution_count": 7,
     "metadata": {},
     "output_type": "execute_result"
    }
   ],
   "source": [
    "bools = ['RainToday', 'RainTomorrow']\n",
    "for var in bools:\n",
    "    df[var] = df[var].map({\n",
    "        'Yes': 1,\n",
    "        'No': 0\n",
    "    })\n",
    "df.head()"
   ]
  },
  {
   "cell_type": "markdown",
   "metadata": {},
   "source": [
    "Cyclical attributes\n",
    "\n",
    "![title](img/cardinal.png)"
   ]
  },
  {
   "cell_type": "code",
   "execution_count": 8,
   "metadata": {},
   "outputs": [
    {
     "name": "stdout",
     "output_type": "stream",
     "text": [
      "{'N': 0.0, 'NNE': 0.39269908169872414, 'NE': 0.7853981633974483, 'ENE': 1.1780972450961724, 'E': 1.5707963267948966, 'ESE': 1.9634954084936207, 'SE': 2.356194490192345, 'SSE': 2.748893571891069, 'S': 3.141592653589793, 'SSW': 3.5342917352885173, 'SW': 3.9269908169872414, 'WSW': 4.319689898685965, 'W': 4.71238898038469, 'WNW': 5.105088062083414, 'NW': 5.497787143782138, 'NNW': 5.890486225480862}\n"
     ]
    },
    {
     "data": {
      "text/html": [
       "<div>\n",
       "<style scoped>\n",
       "    .dataframe tbody tr th:only-of-type {\n",
       "        vertical-align: middle;\n",
       "    }\n",
       "\n",
       "    .dataframe tbody tr th {\n",
       "        vertical-align: top;\n",
       "    }\n",
       "\n",
       "    .dataframe thead th {\n",
       "        text-align: right;\n",
       "    }\n",
       "</style>\n",
       "<table border=\"1\" class=\"dataframe\">\n",
       "  <thead>\n",
       "    <tr style=\"text-align: right;\">\n",
       "      <th></th>\n",
       "      <th>MinTemp</th>\n",
       "      <th>MaxTemp</th>\n",
       "      <th>Rainfall</th>\n",
       "      <th>Evaporation</th>\n",
       "      <th>Sunshine</th>\n",
       "      <th>WindGustSpeed</th>\n",
       "      <th>WindSpeed9am</th>\n",
       "      <th>WindSpeed3pm</th>\n",
       "      <th>Humidity9am</th>\n",
       "      <th>Humidity3pm</th>\n",
       "      <th>...</th>\n",
       "      <th>Temp9am</th>\n",
       "      <th>Temp3pm</th>\n",
       "      <th>RainToday</th>\n",
       "      <th>RainTomorrow</th>\n",
       "      <th>WindGustDir_cos</th>\n",
       "      <th>WindGustDir_sin</th>\n",
       "      <th>WindDir9am_cos</th>\n",
       "      <th>WindDir9am_sin</th>\n",
       "      <th>WindDir3pm_cos</th>\n",
       "      <th>WindDir3pm_sin</th>\n",
       "    </tr>\n",
       "  </thead>\n",
       "  <tbody>\n",
       "    <tr>\n",
       "      <th>1</th>\n",
       "      <td>6.4</td>\n",
       "      <td>20.7</td>\n",
       "      <td>0.0</td>\n",
       "      <td>1.8</td>\n",
       "      <td>7.0</td>\n",
       "      <td>22.0</td>\n",
       "      <td>6</td>\n",
       "      <td>9.0</td>\n",
       "      <td>80.0</td>\n",
       "      <td>39.0</td>\n",
       "      <td>...</td>\n",
       "      <td>11.1</td>\n",
       "      <td>19.7</td>\n",
       "      <td>0</td>\n",
       "      <td>0</td>\n",
       "      <td>7.071068e-01</td>\n",
       "      <td>0.707107</td>\n",
       "      <td>-3.826834e-01</td>\n",
       "      <td>0.923880</td>\n",
       "      <td>0.382683</td>\n",
       "      <td>0.923880</td>\n",
       "    </tr>\n",
       "    <tr>\n",
       "      <th>3</th>\n",
       "      <td>9.5</td>\n",
       "      <td>19.2</td>\n",
       "      <td>1.8</td>\n",
       "      <td>1.2</td>\n",
       "      <td>4.7</td>\n",
       "      <td>26.0</td>\n",
       "      <td>11</td>\n",
       "      <td>6.0</td>\n",
       "      <td>93.0</td>\n",
       "      <td>73.0</td>\n",
       "      <td>...</td>\n",
       "      <td>13.2</td>\n",
       "      <td>17.7</td>\n",
       "      <td>1</td>\n",
       "      <td>1</td>\n",
       "      <td>-1.836970e-16</td>\n",
       "      <td>-1.000000</td>\n",
       "      <td>9.238795e-01</td>\n",
       "      <td>0.382683</td>\n",
       "      <td>0.923880</td>\n",
       "      <td>-0.382683</td>\n",
       "    </tr>\n",
       "    <tr>\n",
       "      <th>4</th>\n",
       "      <td>9.5</td>\n",
       "      <td>16.4</td>\n",
       "      <td>1.8</td>\n",
       "      <td>1.4</td>\n",
       "      <td>4.9</td>\n",
       "      <td>44.0</td>\n",
       "      <td>13</td>\n",
       "      <td>17.0</td>\n",
       "      <td>69.0</td>\n",
       "      <td>57.0</td>\n",
       "      <td>...</td>\n",
       "      <td>15.9</td>\n",
       "      <td>16.0</td>\n",
       "      <td>1</td>\n",
       "      <td>1</td>\n",
       "      <td>-3.826834e-01</td>\n",
       "      <td>-0.923880</td>\n",
       "      <td>-1.836970e-16</td>\n",
       "      <td>-1.000000</td>\n",
       "      <td>-0.707107</td>\n",
       "      <td>-0.707107</td>\n",
       "    </tr>\n",
       "    <tr>\n",
       "      <th>5</th>\n",
       "      <td>0.7</td>\n",
       "      <td>15.9</td>\n",
       "      <td>6.8</td>\n",
       "      <td>2.4</td>\n",
       "      <td>9.3</td>\n",
       "      <td>24.0</td>\n",
       "      <td>4</td>\n",
       "      <td>7.0</td>\n",
       "      <td>86.0</td>\n",
       "      <td>41.0</td>\n",
       "      <td>...</td>\n",
       "      <td>6.9</td>\n",
       "      <td>15.5</td>\n",
       "      <td>1</td>\n",
       "      <td>0</td>\n",
       "      <td>9.238795e-01</td>\n",
       "      <td>0.382683</td>\n",
       "      <td>3.826834e-01</td>\n",
       "      <td>0.923880</td>\n",
       "      <td>0.707107</td>\n",
       "      <td>0.707107</td>\n",
       "    </tr>\n",
       "    <tr>\n",
       "      <th>6</th>\n",
       "      <td>0.7</td>\n",
       "      <td>18.3</td>\n",
       "      <td>0.0</td>\n",
       "      <td>0.8</td>\n",
       "      <td>9.3</td>\n",
       "      <td>37.0</td>\n",
       "      <td>15</td>\n",
       "      <td>13.0</td>\n",
       "      <td>72.0</td>\n",
       "      <td>36.0</td>\n",
       "      <td>...</td>\n",
       "      <td>8.7</td>\n",
       "      <td>17.9</td>\n",
       "      <td>0</td>\n",
       "      <td>0</td>\n",
       "      <td>1.000000e+00</td>\n",
       "      <td>0.000000</td>\n",
       "      <td>7.071068e-01</td>\n",
       "      <td>0.707107</td>\n",
       "      <td>0.923880</td>\n",
       "      <td>0.382683</td>\n",
       "    </tr>\n",
       "  </tbody>\n",
       "</table>\n",
       "<p>5 rows × 24 columns</p>\n",
       "</div>"
      ],
      "text/plain": [
       "   MinTemp  MaxTemp  Rainfall  Evaporation  Sunshine  WindGustSpeed  \\\n",
       "1      6.4     20.7       0.0          1.8       7.0           22.0   \n",
       "3      9.5     19.2       1.8          1.2       4.7           26.0   \n",
       "4      9.5     16.4       1.8          1.4       4.9           44.0   \n",
       "5      0.7     15.9       6.8          2.4       9.3           24.0   \n",
       "6      0.7     18.3       0.0          0.8       9.3           37.0   \n",
       "\n",
       "   WindSpeed9am  WindSpeed3pm  Humidity9am  Humidity3pm  ...  Temp9am  \\\n",
       "1             6           9.0         80.0         39.0  ...     11.1   \n",
       "3            11           6.0         93.0         73.0  ...     13.2   \n",
       "4            13          17.0         69.0         57.0  ...     15.9   \n",
       "5             4           7.0         86.0         41.0  ...      6.9   \n",
       "6            15          13.0         72.0         36.0  ...      8.7   \n",
       "\n",
       "   Temp3pm  RainToday  RainTomorrow  WindGustDir_cos  WindGustDir_sin  \\\n",
       "1     19.7          0             0     7.071068e-01         0.707107   \n",
       "3     17.7          1             1    -1.836970e-16        -1.000000   \n",
       "4     16.0          1             1    -3.826834e-01        -0.923880   \n",
       "5     15.5          1             0     9.238795e-01         0.382683   \n",
       "6     17.9          0             0     1.000000e+00         0.000000   \n",
       "\n",
       "   WindDir9am_cos  WindDir9am_sin  WindDir3pm_cos  WindDir3pm_sin  \n",
       "1   -3.826834e-01        0.923880        0.382683        0.923880  \n",
       "3    9.238795e-01        0.382683        0.923880       -0.382683  \n",
       "4   -1.836970e-16       -1.000000       -0.707107       -0.707107  \n",
       "5    3.826834e-01        0.923880        0.707107        0.707107  \n",
       "6    7.071068e-01        0.707107        0.923880        0.382683  \n",
       "\n",
       "[5 rows x 24 columns]"
      ]
     },
     "execution_count": 8,
     "metadata": {},
     "output_type": "execute_result"
    }
   ],
   "source": [
    "wind_attributes = ['WindGustDir', 'WindDir9am', 'WindDir3pm']\n",
    "\n",
    "# Cardinal direction to radians\n",
    "dirs = ['N','NNE','NE','ENE','E','ESE','SE','SSE','S','SSW','SW','WSW','W','WNW','NW','NNW']\n",
    "angles = np.arange(0.0, 2.0*np.pi, 2.0*np.pi / 16.0)\n",
    "wind_angles = dict(zip(dirs, angles))\n",
    "print(wind_angles)\n",
    "\n",
    "for var in wind_attributes:\n",
    "    df[var] = df[var].map(wind_angles)\n",
    "    df[var + '_cos'] = np.cos(df[var])\n",
    "    df[var + '_sin'] = np.sin(df[var])\n",
    "    df = df.drop(columns=var)\n",
    "df.head()"
   ]
  },
  {
   "cell_type": "markdown",
   "metadata": {},
   "source": [
    "Extract attributes (X) and class labels (y)."
   ]
  },
  {
   "cell_type": "code",
   "execution_count": 9,
   "metadata": {},
   "outputs": [],
   "source": [
    "y = df[\"RainTomorrow\"]\n",
    "X = df.drop(columns=\"RainTomorrow\")"
   ]
  },
  {
   "cell_type": "markdown",
   "metadata": {},
   "source": [
    "Split dataset into training and testing subsets."
   ]
  },
  {
   "cell_type": "code",
   "execution_count": 10,
   "metadata": {},
   "outputs": [
    {
     "name": "stdout",
     "output_type": "stream",
     "text": [
      "X_train (2026, 23)\n",
      "X_test (999, 23)\n"
     ]
    }
   ],
   "source": [
    "X_train, X_test, y_train, y_test = train_test_split(\n",
    "    X, \n",
    "    y, \n",
    "    test_size=0.33,\n",
    "    random_state=0\n",
    ")\n",
    "print('X_train', X_train.shape)\n",
    "print('X_test', X_test.shape)"
   ]
  },
  {
   "cell_type": "markdown",
   "metadata": {},
   "source": [
    "Scale."
   ]
  },
  {
   "cell_type": "code",
   "execution_count": 11,
   "metadata": {},
   "outputs": [],
   "source": [
    "scaler = StandardScaler()\n",
    "scaler.fit(X_train)\n",
    "X_train = scaler.transform(X_train)\n",
    "X_test = scaler.transform(X_test)"
   ]
  },
  {
   "cell_type": "markdown",
   "metadata": {},
   "source": [
    "Instantiate a neural network and train it.\n",
    "\n",
    "![title](img/ANN_2_layers.png)"
   ]
  },
  {
   "cell_type": "markdown",
   "metadata": {},
   "source": [
    "Input layer size."
   ]
  },
  {
   "cell_type": "code",
   "execution_count": 12,
   "metadata": {},
   "outputs": [
    {
     "name": "stdout",
     "output_type": "stream",
     "text": [
      "(2026, 23)\n"
     ]
    }
   ],
   "source": [
    "print(X_train.shape)"
   ]
  },
  {
   "cell_type": "code",
   "execution_count": 13,
   "metadata": {},
   "outputs": [
    {
     "data": {
      "text/plain": [
       "MLPClassifier(hidden_layer_sizes=(50, 50), max_iter=500, random_state=0)"
      ]
     },
     "execution_count": 13,
     "metadata": {},
     "output_type": "execute_result"
    }
   ],
   "source": [
    "classifier = MLPClassifier(\n",
    "    hidden_layer_sizes=(50,50),\n",
    "    max_iter=500,\n",
    "    random_state=0\n",
    ")\n",
    "classifier.fit(X_train, y_train)"
   ]
  },
  {
   "cell_type": "markdown",
   "metadata": {},
   "source": [
    "Predict target class for the testing set."
   ]
  },
  {
   "cell_type": "code",
   "execution_count": 14,
   "metadata": {},
   "outputs": [
    {
     "name": "stdout",
     "output_type": "stream",
     "text": [
      "0.8928928928928929\n"
     ]
    }
   ],
   "source": [
    "y_pred = classifier.predict(X_test)\n",
    "print(accuracy_score(y_test, y_pred))"
   ]
  },
  {
   "cell_type": "markdown",
   "metadata": {},
   "source": [
    "Search for best network layout."
   ]
  },
  {
   "cell_type": "code",
   "execution_count": 36,
   "metadata": {},
   "outputs": [
    {
     "data": {
      "text/plain": [
       "GridSearchCV(cv=3, estimator=MLPClassifier(max_iter=2000, random_state=0),\n",
       "             param_grid={'hidden_layer_sizes': ((2,), (10,), (50, 50))})"
      ]
     },
     "execution_count": 36,
     "metadata": {},
     "output_type": "execute_result"
    }
   ],
   "source": [
    "parameters = {\n",
    "    'hidden_layer_sizes': (\n",
    "        (2,), (10,), (50,50),\n",
    "    )\n",
    "}\n",
    "nn = MLPClassifier(max_iter=2000, random_state=0)\n",
    "gridsearch = GridSearchCV(nn, parameters, cv=3)\n",
    "gridsearch.fit(X_train, y_train)\n"
   ]
  },
  {
   "cell_type": "markdown",
   "metadata": {},
   "source": [
    "Display grid search results."
   ]
  },
  {
   "cell_type": "code",
   "execution_count": 37,
   "metadata": {},
   "outputs": [
    {
     "name": "stdout",
     "output_type": "stream",
     "text": [
      "[{'hidden_layer_sizes': (2,)}, {'hidden_layer_sizes': (10,)}, {'hidden_layer_sizes': (50, 50)}]\n",
      "[0.90424355 0.89487179 0.88450873]\n"
     ]
    }
   ],
   "source": [
    "print(gridsearch.cv_results_['params'])\n",
    "print(gridsearch.cv_results_['mean_test_score'])"
   ]
  },
  {
   "cell_type": "markdown",
   "metadata": {},
   "source": [
    "Predictions using the best neural network."
   ]
  },
  {
   "cell_type": "code",
   "execution_count": 38,
   "metadata": {},
   "outputs": [
    {
     "name": "stdout",
     "output_type": "stream",
     "text": [
      "0.8938938938938938\n"
     ]
    }
   ],
   "source": [
    "best_nn = gridsearch.best_estimator_\n",
    "y_pred = best_nn.predict(X_test)\n",
    "print(accuracy_score(y_test, y_pred))"
   ]
  }
 ],
 "metadata": {
  "kernelspec": {
   "display_name": "Python 3",
   "language": "python",
   "name": "python3"
  },
  "language_info": {
   "codemirror_mode": {
    "name": "ipython",
    "version": 3
   },
   "file_extension": ".py",
   "mimetype": "text/x-python",
   "name": "python",
   "nbconvert_exporter": "python",
   "pygments_lexer": "ipython3",
   "version": "3.6.9"
  }
 },
 "nbformat": 4,
 "nbformat_minor": 4
}
